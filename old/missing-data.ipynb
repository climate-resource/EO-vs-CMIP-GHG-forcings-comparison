{
 "cells": [
  {
   "metadata": {
    "ExecuteTime": {
     "end_time": "2025-04-09T13:50:46.827035Z",
     "start_time": "2025-04-09T13:50:44.572835Z"
    }
   },
   "cell_type": "code",
   "source": [
    "# imports\n",
    "import pandas as pd\n",
    "from old.src import (\n",
    "    compare_missing_data,\n",
    "    plot_missing\n",
    ")"
   ],
   "id": "8d21fd315675b1b1",
   "outputs": [],
   "execution_count": 2
  },
  {
   "metadata": {},
   "cell_type": "markdown",
   "source": [
    "## Prepare data for comparison\n",
    "Specifically, OBS4MIPS data require a different latitudinal \"binning\" in order to be comparable with CIMP7 data.\n",
    "OBS4MIPs data are gridded in $5 \\times 5$ boxes.\n",
    "\n",
    "![grid_obs4mips_vs_cimp7.png](../tutorials/grid_obs4mips_vs_cimp7.png)\n"
   ],
   "id": "f6325d8a84092fa2"
  },
  {
   "metadata": {
    "ExecuteTime": {
     "end_time": "2025-04-09T13:50:53.986858Z",
     "start_time": "2025-04-09T13:50:49.986853Z"
    }
   },
   "cell_type": "code",
   "source": [
    "# load preprocessed data (here example CH4)\n",
    "d_cimp_ch4 = pd.read_csv(\"../data/CMIP7_CH4.csv\")\n",
    "d_obs_ch4 = pd.read_csv(\"../data/OBS4MIPS_CH4_prep.csv\")"
   ],
   "id": "c268760b18d62582",
   "outputs": [],
   "execution_count": 3
  },
  {
   "metadata": {
    "ExecuteTime": {
     "end_time": "2025-04-09T13:50:55.704174Z",
     "start_time": "2025-04-09T13:50:55.467685Z"
    }
   },
   "cell_type": "code",
   "source": [
    "# check grid merging for obs4mips data\n",
    "d_obs_ch4[[\"lat\", \"lat_bnds\"]].drop_duplicates()"
   ],
   "id": "1f9cf6e5d5068ad2",
   "outputs": [
    {
     "data": {
      "text/plain": [
       "         lat  lat_bnds\n",
       "0      -82.5     -90.0\n",
       "220    -77.5     -75.0\n",
       "540    -72.5     -75.0\n",
       "870    -67.5     -75.0\n",
       "910    -62.5     -60.0\n",
       "1040   -57.5     -60.0\n",
       "1240   -52.5     -60.0\n",
       "1510   -47.5     -45.0\n",
       "1860   -42.5     -45.0\n",
       "2360   -37.5     -45.0\n",
       "2920   -32.5     -30.0\n",
       "3540   -27.5     -30.0\n",
       "4220   -22.5     -30.0\n",
       "4930   -17.5     -15.0\n",
       "5630   -12.5     -15.0\n",
       "6190    -7.5     -15.0\n",
       "6680    -2.5       0.0\n",
       "6990     2.5       0.0\n",
       "7210     7.5       0.0\n",
       "7470    12.5      15.0\n",
       "7740    17.5      15.0\n",
       "8050    22.5      15.0\n",
       "8430    27.5      30.0\n",
       "8780    32.5      30.0\n",
       "9160    37.5      30.0\n",
       "9480    42.5      45.0\n",
       "9700    47.5      45.0\n",
       "9740   -82.5     -75.0\n",
       "10610  -67.5     -60.0\n",
       "10980  -52.5     -45.0\n",
       "12100  -37.5     -30.0\n",
       "13960  -22.5     -15.0\n",
       "15930   -7.5       0.0\n",
       "16950    7.5      15.0\n",
       "17790   22.5      30.0\n",
       "18900   37.5      45.0\n",
       "45100   52.5      45.0\n",
       "45380   57.5      60.0\n",
       "45480   62.5      60.0\n",
       "45490   67.5      60.0\n",
       "54250   52.5      60.0\n",
       "54640   67.5      75.0\n",
       "64330   77.5      75.0\n",
       "83930   72.5      75.0\n",
       "105320  82.5      75.0\n",
       "116640  82.5      90.0"
      ],
      "text/html": [
       "<div>\n",
       "<style scoped>\n",
       "    .dataframe tbody tr th:only-of-type {\n",
       "        vertical-align: middle;\n",
       "    }\n",
       "\n",
       "    .dataframe tbody tr th {\n",
       "        vertical-align: top;\n",
       "    }\n",
       "\n",
       "    .dataframe thead th {\n",
       "        text-align: right;\n",
       "    }\n",
       "</style>\n",
       "<table border=\"1\" class=\"dataframe\">\n",
       "  <thead>\n",
       "    <tr style=\"text-align: right;\">\n",
       "      <th></th>\n",
       "      <th>lat</th>\n",
       "      <th>lat_bnds</th>\n",
       "    </tr>\n",
       "  </thead>\n",
       "  <tbody>\n",
       "    <tr>\n",
       "      <th>0</th>\n",
       "      <td>-82.5</td>\n",
       "      <td>-90.0</td>\n",
       "    </tr>\n",
       "    <tr>\n",
       "      <th>220</th>\n",
       "      <td>-77.5</td>\n",
       "      <td>-75.0</td>\n",
       "    </tr>\n",
       "    <tr>\n",
       "      <th>540</th>\n",
       "      <td>-72.5</td>\n",
       "      <td>-75.0</td>\n",
       "    </tr>\n",
       "    <tr>\n",
       "      <th>870</th>\n",
       "      <td>-67.5</td>\n",
       "      <td>-75.0</td>\n",
       "    </tr>\n",
       "    <tr>\n",
       "      <th>910</th>\n",
       "      <td>-62.5</td>\n",
       "      <td>-60.0</td>\n",
       "    </tr>\n",
       "    <tr>\n",
       "      <th>1040</th>\n",
       "      <td>-57.5</td>\n",
       "      <td>-60.0</td>\n",
       "    </tr>\n",
       "    <tr>\n",
       "      <th>1240</th>\n",
       "      <td>-52.5</td>\n",
       "      <td>-60.0</td>\n",
       "    </tr>\n",
       "    <tr>\n",
       "      <th>1510</th>\n",
       "      <td>-47.5</td>\n",
       "      <td>-45.0</td>\n",
       "    </tr>\n",
       "    <tr>\n",
       "      <th>1860</th>\n",
       "      <td>-42.5</td>\n",
       "      <td>-45.0</td>\n",
       "    </tr>\n",
       "    <tr>\n",
       "      <th>2360</th>\n",
       "      <td>-37.5</td>\n",
       "      <td>-45.0</td>\n",
       "    </tr>\n",
       "    <tr>\n",
       "      <th>2920</th>\n",
       "      <td>-32.5</td>\n",
       "      <td>-30.0</td>\n",
       "    </tr>\n",
       "    <tr>\n",
       "      <th>3540</th>\n",
       "      <td>-27.5</td>\n",
       "      <td>-30.0</td>\n",
       "    </tr>\n",
       "    <tr>\n",
       "      <th>4220</th>\n",
       "      <td>-22.5</td>\n",
       "      <td>-30.0</td>\n",
       "    </tr>\n",
       "    <tr>\n",
       "      <th>4930</th>\n",
       "      <td>-17.5</td>\n",
       "      <td>-15.0</td>\n",
       "    </tr>\n",
       "    <tr>\n",
       "      <th>5630</th>\n",
       "      <td>-12.5</td>\n",
       "      <td>-15.0</td>\n",
       "    </tr>\n",
       "    <tr>\n",
       "      <th>6190</th>\n",
       "      <td>-7.5</td>\n",
       "      <td>-15.0</td>\n",
       "    </tr>\n",
       "    <tr>\n",
       "      <th>6680</th>\n",
       "      <td>-2.5</td>\n",
       "      <td>0.0</td>\n",
       "    </tr>\n",
       "    <tr>\n",
       "      <th>6990</th>\n",
       "      <td>2.5</td>\n",
       "      <td>0.0</td>\n",
       "    </tr>\n",
       "    <tr>\n",
       "      <th>7210</th>\n",
       "      <td>7.5</td>\n",
       "      <td>0.0</td>\n",
       "    </tr>\n",
       "    <tr>\n",
       "      <th>7470</th>\n",
       "      <td>12.5</td>\n",
       "      <td>15.0</td>\n",
       "    </tr>\n",
       "    <tr>\n",
       "      <th>7740</th>\n",
       "      <td>17.5</td>\n",
       "      <td>15.0</td>\n",
       "    </tr>\n",
       "    <tr>\n",
       "      <th>8050</th>\n",
       "      <td>22.5</td>\n",
       "      <td>15.0</td>\n",
       "    </tr>\n",
       "    <tr>\n",
       "      <th>8430</th>\n",
       "      <td>27.5</td>\n",
       "      <td>30.0</td>\n",
       "    </tr>\n",
       "    <tr>\n",
       "      <th>8780</th>\n",
       "      <td>32.5</td>\n",
       "      <td>30.0</td>\n",
       "    </tr>\n",
       "    <tr>\n",
       "      <th>9160</th>\n",
       "      <td>37.5</td>\n",
       "      <td>30.0</td>\n",
       "    </tr>\n",
       "    <tr>\n",
       "      <th>9480</th>\n",
       "      <td>42.5</td>\n",
       "      <td>45.0</td>\n",
       "    </tr>\n",
       "    <tr>\n",
       "      <th>9700</th>\n",
       "      <td>47.5</td>\n",
       "      <td>45.0</td>\n",
       "    </tr>\n",
       "    <tr>\n",
       "      <th>9740</th>\n",
       "      <td>-82.5</td>\n",
       "      <td>-75.0</td>\n",
       "    </tr>\n",
       "    <tr>\n",
       "      <th>10610</th>\n",
       "      <td>-67.5</td>\n",
       "      <td>-60.0</td>\n",
       "    </tr>\n",
       "    <tr>\n",
       "      <th>10980</th>\n",
       "      <td>-52.5</td>\n",
       "      <td>-45.0</td>\n",
       "    </tr>\n",
       "    <tr>\n",
       "      <th>12100</th>\n",
       "      <td>-37.5</td>\n",
       "      <td>-30.0</td>\n",
       "    </tr>\n",
       "    <tr>\n",
       "      <th>13960</th>\n",
       "      <td>-22.5</td>\n",
       "      <td>-15.0</td>\n",
       "    </tr>\n",
       "    <tr>\n",
       "      <th>15930</th>\n",
       "      <td>-7.5</td>\n",
       "      <td>0.0</td>\n",
       "    </tr>\n",
       "    <tr>\n",
       "      <th>16950</th>\n",
       "      <td>7.5</td>\n",
       "      <td>15.0</td>\n",
       "    </tr>\n",
       "    <tr>\n",
       "      <th>17790</th>\n",
       "      <td>22.5</td>\n",
       "      <td>30.0</td>\n",
       "    </tr>\n",
       "    <tr>\n",
       "      <th>18900</th>\n",
       "      <td>37.5</td>\n",
       "      <td>45.0</td>\n",
       "    </tr>\n",
       "    <tr>\n",
       "      <th>45100</th>\n",
       "      <td>52.5</td>\n",
       "      <td>45.0</td>\n",
       "    </tr>\n",
       "    <tr>\n",
       "      <th>45380</th>\n",
       "      <td>57.5</td>\n",
       "      <td>60.0</td>\n",
       "    </tr>\n",
       "    <tr>\n",
       "      <th>45480</th>\n",
       "      <td>62.5</td>\n",
       "      <td>60.0</td>\n",
       "    </tr>\n",
       "    <tr>\n",
       "      <th>45490</th>\n",
       "      <td>67.5</td>\n",
       "      <td>60.0</td>\n",
       "    </tr>\n",
       "    <tr>\n",
       "      <th>54250</th>\n",
       "      <td>52.5</td>\n",
       "      <td>60.0</td>\n",
       "    </tr>\n",
       "    <tr>\n",
       "      <th>54640</th>\n",
       "      <td>67.5</td>\n",
       "      <td>75.0</td>\n",
       "    </tr>\n",
       "    <tr>\n",
       "      <th>64330</th>\n",
       "      <td>77.5</td>\n",
       "      <td>75.0</td>\n",
       "    </tr>\n",
       "    <tr>\n",
       "      <th>83930</th>\n",
       "      <td>72.5</td>\n",
       "      <td>75.0</td>\n",
       "    </tr>\n",
       "    <tr>\n",
       "      <th>105320</th>\n",
       "      <td>82.5</td>\n",
       "      <td>75.0</td>\n",
       "    </tr>\n",
       "    <tr>\n",
       "      <th>116640</th>\n",
       "      <td>82.5</td>\n",
       "      <td>90.0</td>\n",
       "    </tr>\n",
       "  </tbody>\n",
       "</table>\n",
       "</div>"
      ]
     },
     "execution_count": 4,
     "metadata": {},
     "output_type": "execute_result"
    }
   ],
   "execution_count": 4
  },
  {
   "metadata": {},
   "cell_type": "markdown",
   "source": "## Methane data",
   "id": "e6ade798732f014b"
  },
  {
   "metadata": {
    "ExecuteTime": {
     "end_time": "2025-04-09T13:52:06.940121Z",
     "start_time": "2025-04-09T13:51:51.950695Z"
    }
   },
   "cell_type": "code",
   "source": [
    "d_counts = compare_missing_data(\n",
    "    d_cimp=d_cimp_ch4,\n",
    "    d_obs=d_obs_ch4,\n",
    "    gas=\"ch4\",\n",
    "    min_year_cimp=2000\n",
    ")"
   ],
   "id": "acc15af22abc02fe",
   "outputs": [],
   "execution_count": 5
  },
  {
   "metadata": {
    "ExecuteTime": {
     "end_time": "2025-04-09T13:52:26.118648Z",
     "start_time": "2025-04-09T13:52:23.907198Z"
    }
   },
   "cell_type": "code",
   "source": "plot_missing(d_counts, \"ch4\", figsize=(8,3))",
   "id": "7c27a28cb3d4b21a",
   "outputs": [
    {
     "data": {
      "text/plain": [
       "<Figure size 800x300 with 1 Axes>"
      ],
      "image/png": "[encoded data removed]"
     },
     "metadata": {},
     "output_type": "display_data"
    }
   ],
   "execution_count": 6
  },
  {
   "metadata": {},
   "cell_type": "markdown",
   "source": "## CO2 data",
   "id": "ec532b4124c62911"
  },
  {
   "metadata": {
    "ExecuteTime": {
     "end_time": "2025-04-09T13:52:50.770499Z",
     "start_time": "2025-04-09T13:52:47.741062Z"
    }
   },
   "cell_type": "code",
   "source": [
    "# load data\n",
    "d_cimp_co2 = pd.read_csv(\"../data/CMIP7_CO2.csv\")\n",
    "d_obs_co2 = pd.read_csv(\"../data/OBS4MIPS_CO2_prep.csv\")"
   ],
   "id": "3bc3925daa18f63f",
   "outputs": [],
   "execution_count": 7
  },
  {
   "metadata": {
    "ExecuteTime": {
     "end_time": "2025-04-09T13:53:13.041259Z",
     "start_time": "2025-04-09T13:53:00.390848Z"
    }
   },
   "cell_type": "code",
   "source": [
    "d_counts = compare_missing_data(\n",
    "    d_cimp=d_cimp_co2,\n",
    "    d_obs=d_obs_co2,\n",
    "    gas=\"co2\",\n",
    "    min_year_cimp=2000\n",
    ")"
   ],
   "id": "1b91a42fbdcc0c22",
   "outputs": [],
   "execution_count": 8
  },
  {
   "metadata": {
    "ExecuteTime": {
     "end_time": "2025-04-09T13:53:28.643243Z",
     "start_time": "2025-04-09T13:53:26.735371Z"
    }
   },
   "cell_type": "code",
   "source": "plot_missing(d_counts, \"co2\", figsize=(8,3))",
   "id": "e202388fb4811f37",
   "outputs": [
    {
     "data": {
      "text/plain": [
       "<Figure size 800x300 with 1 Axes>"
      ],
      "image/png": "[encoded data removed]"
     },
     "metadata": {},
     "output_type": "display_data"
    }
   ],
   "execution_count": 9
  },
  {
   "metadata": {
    "ExecuteTime": {
     "end_time": "2025-04-09T13:53:29.914788Z",
     "start_time": "2025-04-09T13:53:29.892937Z"
    }
   },
   "cell_type": "code",
   "source": [
    "# what's up with the blue line around 2015?\n",
    "d_counts[(d_counts.lat_bnds == 15) & (d_counts.missings == \"True\")].year_month.unique()"
   ],
   "id": "6920afd634c02874",
   "outputs": [
    {
     "data": {
      "text/plain": [
       "<PeriodArray>\n",
       "['2001-01', '2001-02', '2001-03', '2001-04', '2001-05', '2001-06', '2001-07',\n",
       " '2001-08', '2001-09', '2001-10', '2001-11', '2001-12', '2002-01', '2002-02',\n",
       " '2002-03', '2002-04', '2002-05', '2002-06', '2002-07', '2002-08', '2002-09',\n",
       " '2002-10', '2002-11', '2002-12', '2015-01']\n",
       "Length: 25, dtype: period[M]"
      ]
     },
     "execution_count": 10,
     "metadata": {},
     "output_type": "execute_result"
    }
   ],
   "execution_count": 10
  }
 ],
 "metadata": {
  "kernelspec": {
   "display_name": "Python 3",
   "language": "python",
   "name": "python3"
  },
  "language_info": {
   "codemirror_mode": {
    "name": "ipython",
    "version": 2
   },
   "file_extension": ".py",
   "mimetype": "text/x-python",
   "name": "python",
   "nbconvert_exporter": "python",
   "pygments_lexer": "ipython2",
   "version": "2.7.6"
  }
 },
 "nbformat": 4,
 "nbformat_minor": 5
}
